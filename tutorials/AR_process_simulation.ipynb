{
 "cells": [
  {
   "cell_type": "markdown",
   "metadata": {},
   "source": [
    "# Autoregressive processes simulation\n",
    "\n",
    "*Version of this code is running under Windows. Excuted on September 3rd 2019.*\n",
    "Here we perform time series analysis. We mostly investigate time-series from dynamical systems.\n",
    "We analyze causal discovery of time series.\n",
    "\n",
    "We use various causality methods and time-series analysis packages TIGRAMITE (see J.Runge paper)[1]. For other correlation methods applied to time-series check [2]. \n",
    "\n",
    "1.  Runge et al, Nature Communications 2015\n",
    "2.  Donges et al. Unified functional network and nonlinear time series analysis for complex systems science: The pyunicorn package https://arxiv.org/abs/1507.01571"
   ]
  },
  {
   "cell_type": "code",
   "execution_count": 1,
   "metadata": {},
   "outputs": [],
   "source": [
    "# Imports\n",
    "import numpy\n",
    "import matplotlib\n",
    "from matplotlib import pyplot as plt\n",
    "%matplotlib inline     \n",
    "## use `%matplotlib notebook` for interactive figures\n",
    "# plt.style.use('ggplot')\n",
    "import sklearn"
   ]
  },
  {
   "cell_type": "code",
   "execution_count": null,
   "metadata": {},
   "outputs": [],
   "source": [
    "\n",
    "\n",
    "import tigramite\n",
    "from tigramite import data_processing as pp\n",
    "from tigramite import plotting as tp\n",
    "from tigramite.pcmci import PCMCI\n",
    "from tigramite.independence_tests import ParCorr, GPDC, CMIknn, CMIsymb\n",
    "from tigramite.models import LinearMediation, Prediction"
   ]
  },
  {
   "cell_type": "markdown",
   "metadata": {},
   "source": [
    "Consider time series coming from a data generating process.\n",
    "System $S_1$\n",
    "\\begin{align*}\n",
    "X^0_t &= 0.7 X^0_{t-1} - 0.8 X^1_{t-1} + \\eta^0_t\\\\\n",
    "X^1_t &= 0.8 X^1_{t-1} + 0.8 X^3_{t-1} + \\eta^1_t\\\\\n",
    "X^2_t &= 0.5 X^2_{t-1} + 0.5 X^1_{t-2} + 0.6 X^3_{t-3} + \\eta^2_t\\\\\n",
    "X^3_t &= 0.7 X^3_{t-1} + \\eta^3_t\\\\\n",
    "\\end{align*}\n",
    "\n",
    "In system $S_2$ we make the variable $X_3$ independent:...\n",
    "\n",
    "\n",
    "\\begin{align*}\n",
    "X^0_t &= 0.7 X^0_{t-1} - 0.8 X^1_{t-1} + \\eta^0_t\\\\\n",
    "X^1_t &= 0.8 X^1_{t-1} + 0.8 X^3_{t-1} + \\eta^1_t\\\\\n",
    "X^2_t &= 0.5 X^2_{t-1} + 0.5 X^1_{t-2} + 0.6 X^3_{t-3} + \\eta^2_t\\\\\n",
    "X^3_t &= f(t) + \\eta^3_t\\\\\n",
    "\\end{align*}\n",
    "\n",
    "\n",
    "\n",
    "where $\\eta$ are independent zero-mean unit variance random variables. Our goal is to reconstruct the drivers of each variable. In Tigramite such a process can be generated with the function ``pp.var_process``."
   ]
  },
  {
   "cell_type": "code",
   "execution_count": null,
   "metadata": {},
   "outputs": [],
   "source": [
    "numpy.random.seed(42)     # Fix random seed\n",
    "links_coeffs = {0: [((0, -1), 0.7), ((1, -1), -0.8)],\n",
    "                1: [((1, -1), 0.8), ((3, -1), 0.8)],\n",
    "                2: [((2, -1), 0.5), ((1, -2), 0.5), ((3, -3), 0.6)],\n",
    "                3: [((3, -1), 0.7)],\n",
    "                }\n",
    "T = 1000     # time series length\n",
    "data, true_parents_neighbors = pp.var_process(links_coeffs, T=T)\n",
    "T, N = data.shape\n",
    "\n",
    "# Initialize dataframe object\n",
    "dataframe = pp.DataFrame(data)\n",
    "\n",
    "# Specify time axis and variable names\n",
    "datatime = numpy.arange(len(data))\n",
    "var_names = [r'$X^0$', r'$X^1$', r'$X^2$', r'$X^3$']"
   ]
  },
  {
   "cell_type": "code",
   "execution_count": 2,
   "metadata": {},
   "outputs": [],
   "source": [
    "# System S_2"
   ]
  },
  {
   "cell_type": "code",
   "execution_count": null,
   "metadata": {},
   "outputs": [],
   "source": [
    "numpy.random.seed(42)     # Fix random seed\n",
    "links_coeffs_2 = {0: [((0, -1), 0.7), ((1, -1), -0.8)],\n",
    "                1: [((1, -1), 0.8), ((3, -1), 0.8)],\n",
    "                2: [((2, -1), 0.5), ((1, -2), 0.5), ((3, -3), 0.6)],\n",
    "                3: [((3, -1), 0.0)],# independent intrance\n",
    "                }\n",
    "T = 1000     # time series length\n",
    "data_2, true_parents_neighbors = pp.var_process(links_coeffs_2, T=T)\n",
    "T, N = data_2.shape\n",
    "\n",
    "# Initialize dataframe object #2\n",
    "dataframe_2 = pp.DataFrame(data_2)\n",
    "\n",
    "# Specify time axis and variable names\n",
    "datatime_2 = numpy.arange(len(data_2))\n",
    "var_names_2 = [r'$X^0$', r'$X^1$', r'$X^2$', r'$X^3$']"
   ]
  },
  {
   "cell_type": "markdown",
   "metadata": {},
   "source": [
    "First, we plot the time series. This can be done with the function ``tp.plot_timeseries``"
   ]
  },
  {
   "cell_type": "code",
   "execution_count": null,
   "metadata": {},
   "outputs": [],
   "source": [
    "import pandas as pd\n",
    "from matplotlib import pyplot as plt\n",
    "\n",
    "\n",
    "'''tp.plot_timeseries(data, datatime, var_names)'''\n",
    "array = dataframe.values\n",
    "#print(type(dataframe.values))\n",
    "#print(array.shape)\n",
    "print('plotting time series from first dynamical system')\n",
    "plt.plot(array[:,1])\n",
    "plt.xlabel('time')\n",
    "\n",
    "plt.plot(array[:,2])\n",
    "plt.xlabel('time')\n",
    "\n",
    "plt.show()\n",
    "\n",
    "\n",
    "'''tp.plot_timeseries(data, datatime, var_names)'''\n",
    "array_2 = dataframe_2.values\n",
    "#print(type(dataframe.values))\n",
    "#print(array.shape)\n",
    "\n",
    "print('plotting time series from second dynamical system')\n",
    "plt.plot(array_2[:,1])\n",
    "plt.xlabel('time')\n",
    "\n",
    "plt.plot(array_2[:,3])\n",
    "plt.xlabel('time')\n",
    "plt.show()\n"
   ]
  },
  {
   "cell_type": "markdown",
   "metadata": {},
   "source": [
    "It's stationary and doesn't contain missing values (covered below). \n",
    "\n",
    "After for simplest causality tests we can choose a conditional independence test, here we start with ``ParCorr`` implementing linear partial correlation."
   ]
  },
  {
   "cell_type": "code",
   "execution_count": null,
   "metadata": {},
   "outputs": [],
   "source": []
  }
 ],
 "metadata": {
  "kernelspec": {
   "display_name": "Python 3",
   "language": "python",
   "name": "python3"
  },
  "language_info": {
   "codemirror_mode": {
    "name": "ipython",
    "version": 3
   },
   "file_extension": ".py",
   "mimetype": "text/x-python",
   "name": "python",
   "nbconvert_exporter": "python",
   "pygments_lexer": "ipython3",
   "version": "3.7.4"
  }
 },
 "nbformat": 4,
 "nbformat_minor": 2
}
