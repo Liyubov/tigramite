{
 "cells": [
  {
   "cell_type": "markdown",
   "metadata": {},
   "source": [
    "# Causality notebooks\n",
    "\n",
    "In this notebook we will show how to write time series models using the symbolic interface of Brancher. For simplicity, we will focus on simple examples with scalar variables. We will cover more complex models with convulutional and LSTM components in more advanced tutorials. Note however that the syntax for specifying those more advanced models is identical to the syntax shown in these simpler examples. Discrete probabilistic time series models are specified by an equation that links the parameters $\\boldsymbol{\\theta}_t$ of the probability distribution of the current value $\\boldsymbol{x}_{t}$ to the previous values of $\\boldsymbol{x}$:\n",
    "\n",
    "$$ \n",
    "\\boldsymbol{\\theta}_t = \\boldsymbol{f}(\\boldsymbol{x}_{t-1},...,\\boldsymbol{x}_{0}) ~,\n",
    "$$\n",
    "\n",
    "where $\\boldsymbol{f}$ is an arbitrary function. \n",
    "\n",
    "# Autoregressive models\n",
    "Gaussian autoregressive models are among the simplest examples of probabilistic time series models. An AR(1) model is specified by the following equation:\n",
    "\n",
    "$$ \n",
    "\\boldsymbol{\\mu}_t = b ~ x_{t-1}~,\n",
    "$$\n",
    "\n",
    "where $b$ is the (scalar) autoregressive parameter and $\\boldsymbol{\\mu}_t$ is the mean of a Gaussian distribution with fixed variance $\\sigma$. We also need to specify an initial distribution:\n",
    "\n",
    "$$\n",
    "x_{t-1} \\sim \\mathcal{N}(0, \\sigma)\n",
    "$$\n",
    "\n",
    "Let's write this model in Brancher!\n"
   ]
  },
  {
   "cell_type": "code",
   "execution_count": 1,
   "metadata": {},
   "outputs": [],
   "source": []
  },
  {
   "cell_type": "code",
   "execution_count": 1,
   "metadata": {},
   "outputs": [
    {
     "ename": "ModuleNotFoundError",
     "evalue": "No module named 'brancher'",
     "output_type": "error",
     "traceback": [
      "\u001b[1;31m---------------------------------------------------------------------------\u001b[0m",
      "\u001b[1;31mModuleNotFoundError\u001b[0m                       Traceback (most recent call last)",
      "\u001b[1;32m<ipython-input-1-40b060acd472>\u001b[0m in \u001b[0;36m<module>\u001b[1;34m\u001b[0m\n\u001b[0;32m      2\u001b[0m \u001b[1;32mimport\u001b[0m \u001b[0mnumpy\u001b[0m \u001b[1;32mas\u001b[0m \u001b[0mnp\u001b[0m\u001b[1;33m\u001b[0m\u001b[1;33m\u001b[0m\u001b[0m\n\u001b[0;32m      3\u001b[0m \u001b[1;33m\u001b[0m\u001b[0m\n\u001b[1;32m----> 4\u001b[1;33m \u001b[1;32mfrom\u001b[0m \u001b[0mbrancher\u001b[0m\u001b[1;33m.\u001b[0m\u001b[0mvariables\u001b[0m \u001b[1;32mimport\u001b[0m \u001b[0mRootVariable\u001b[0m\u001b[1;33m,\u001b[0m \u001b[0mRandomVariable\u001b[0m\u001b[1;33m,\u001b[0m \u001b[0mProbabilisticModel\u001b[0m\u001b[1;33m\u001b[0m\u001b[1;33m\u001b[0m\u001b[0m\n\u001b[0m\u001b[0;32m      5\u001b[0m \u001b[1;32mfrom\u001b[0m \u001b[0mbrancher\u001b[0m\u001b[1;33m.\u001b[0m\u001b[0mstandard_variables\u001b[0m \u001b[1;32mimport\u001b[0m \u001b[0mNormalVariable\u001b[0m\u001b[1;33m,\u001b[0m \u001b[0mLogNormalVariable\u001b[0m\u001b[1;33m,\u001b[0m \u001b[0mBetaVariable\u001b[0m\u001b[1;33m\u001b[0m\u001b[1;33m\u001b[0m\u001b[0m\n\u001b[0;32m      6\u001b[0m \u001b[1;32mfrom\u001b[0m \u001b[0mbrancher\u001b[0m \u001b[1;32mimport\u001b[0m \u001b[0minference\u001b[0m\u001b[1;33m\u001b[0m\u001b[1;33m\u001b[0m\u001b[0m\n",
      "\u001b[1;31mModuleNotFoundError\u001b[0m: No module named 'brancher'"
     ]
    }
   ],
   "source": [
    "import matplotlib.pyplot as plt\n",
    "import numpy as np\n",
    "\n",
    "from brancher.variables import RootVariable, RandomVariable, ProbabilisticModel\n",
    "from brancher.standard_variables import NormalVariable, LogNormalVariable, BetaVariable\n",
    "from brancher import inference\n",
    "import brancher.functions as BF\n",
    "\n",
    "# Probabilistic model #\n",
    "T = 200\n",
    "\n",
    "nu = LogNormalVariable(0.3, 1., 'nu')\n",
    "x0 = NormalVariable(0., 1., 'x0')\n",
    "b = BetaVariable(0.5, 1.5, 'b')\n",
    "\n",
    "x = [x0]\n",
    "names = [\"x0\"]\n",
    "for t in range(1, T):\n",
    "    names.append(\"x{}\".format(t))\n",
    "    x.append(NormalVariable(b*x[t-1], nu, names[t]))\n",
    "AR_model = ProbabilisticModel(x)\n",
    "\n",
    "# Generate data #\n",
    "data = AR_model._get_sample(number_samples=1)\n",
    "time_series = [float(data[xt].cpu().detach().numpy()) for xt in x]\n",
    "true_b = data[b].cpu().detach().numpy()\n",
    "true_nu = data[nu].cpu().detach().numpy()\n",
    "print(\"The true coefficient is: {}\".format(float(true_b)))\n",
    "\n",
    "# Observe data #\n",
    "[xt.observe(data[xt][:, 0, :]) for xt in x]\n",
    "\n",
    "# Variational distribution #\n",
    "Qnu = LogNormalVariable(0.5, 1., \"nu\", learnable=True)\n",
    "Qb = BetaVariable(0.5, 0.5, \"b\", learnable=True)\n",
    "variational_posterior = ProbabilisticModel([Qb, Qnu])\n",
    "AR_model.set_posterior_model(variational_posterior)\n",
    "\n",
    "# Inference #\n",
    "inference.perform_inference(AR_model,\n",
    "                            number_iterations=200,\n",
    "                            number_samples=300,\n",
    "                            optimizer='Adam',\n",
    "                            lr=0.05)\n",
    "loss_list = AR_model.diagnostics[\"loss curve\"]\n",
    "\n",
    "\n",
    "# Statistics\n",
    "posterior_samples = AR_model._get_posterior_sample(2000)\n",
    "nu_posterior_samples = posterior_samples[nu].cpu().detach().numpy().flatten()\n",
    "b_posterior_samples = posterior_samples[b].cpu().detach().numpy().flatten()\n",
    "b_mean = np.mean(b_posterior_samples)\n",
    "b_sd = np.sqrt(np.var(b_posterior_samples))\n",
    "print(\"The estimated coefficient is: {} +- {}\".format(b_mean, b_sd))\n",
    "\n",
    "# Two subplots, unpack the axes array immediately\n",
    "f, (ax1, ax2, ax3, ax4) = plt.subplots(1, 4)\n",
    "ax1.plot(time_series)\n",
    "ax1.set_title(\"Time series\")\n",
    "ax2.plot(np.array(loss_list))\n",
    "ax2.set_title(\"Convergence\")\n",
    "ax2.set_xlabel(\"Iteration\")\n",
    "ax3.hist(b_posterior_samples, 25)\n",
    "ax3.axvline(x=true_b, lw=2, c=\"r\")\n",
    "ax3.set_title(\"Posterior samples (b)\")\n",
    "ax3.set_xlim(0,1)\n",
    "ax4.hist(nu_posterior_samples, 25)\n",
    "ax4.axvline(x=true_nu, lw=2, c=\"r\")\n",
    "ax4.set_title(\"Posterior samples (nu)\")\n",
    "plt.show()"
   ]
  },
  {
   "cell_type": "code",
   "execution_count": 6,
   "metadata": {},
   "outputs": [
    {
     "name": "stderr",
     "output_type": "stream",
     "text": [
      "C:\\Users\\lyubo\\Anaconda3\\envs\\default\\lib\\site-packages\\statsmodels\\tsa\\base\\tsa_model.py:165: ValueWarning: No frequency information was provided, so inferred frequency Q-DEC will be used.\n",
      "  % freq, ValueWarning)\n"
     ]
    }
   ],
   "source": [
    "# Let us generate  Autoregressive AR(p) model\n",
    "import numpy as np\n",
    "import pandas\n",
    "import statsmodels.api as sm\n",
    "from statsmodels.tsa.api import VAR, DynamicVAR\n",
    "mdata = sm.datasets.macrodata.load_pandas().data\n",
    "dates = mdata[['year', 'quarter']].astype(int).astype(str)\n",
    "quarterly = dates[\"year\"] + \"Q\" + dates[\"quarter\"]\n",
    "from statsmodels.tsa.base.datetools import dates_from_str\n",
    "quarterly = dates_from_str(quarterly)\n",
    "mdata = mdata[['realgdp','realcons','realinv']]\n",
    "mdata.index = pandas.DatetimeIndex(quarterly)\n",
    "data = np.log(mdata).diff().dropna()\n",
    "model = VAR(data)"
   ]
  },
  {
   "cell_type": "markdown",
   "metadata": {},
   "source": [
    "\n",
    "This notebook uses some studies on causality from D.Marinazzo, J.Runge and others. \n",
    "\n",
    "We cite these resources also \n",
    "\n",
    "1. https://arxiv.org/abs/1907.03902 \n",
    "2. https://causeme.uv.es/models/"
   ]
  },
  {
   "cell_type": "markdown",
   "metadata": {},
   "source": [
    "# Causality notebooks \n",
    "\n",
    "Build example for X->Y->Z"
   ]
  },
  {
   "cell_type": "code",
   "execution_count": 7,
   "metadata": {},
   "outputs": [
    {
     "data": {
      "image/png": "[encoded data removed]",
      "text/plain": [
       "<Figure size 432x288 with 1 Axes>"
      ]
     },
     "metadata": {
      "needs_background": "light"
     },
     "output_type": "display_data"
    }
   ],
   "source": [
    "import numpy as np\n",
    "import pandas as pd\n",
    "import matplotlib.pyplot as plt\n",
    "\n",
    "size = 1000\n",
    "x = np.random.normal(size=size)\n",
    "y = x + np.random.normal(size=size)\n",
    "z = y + np.random.normal(size=size)\n",
    "X = pd.DataFrame({'x': x, 'y': y, 'z': z})\n",
    "\n",
    "plt.plot(x,y,'o')\n",
    "plt.show()\n"
   ]
  },
  {
   "cell_type": "markdown",
   "metadata": {},
   "source": [
    "From this picture, you’d never know that Y can explain away X’s effect on Z. This won’t be obvious until we start doing regression analysis. Since everything is related."
   ]
  },
  {
   "cell_type": "code",
   "execution_count": 3,
   "metadata": {},
   "outputs": [
    {
     "data": {
      "text/html": [
       "<table class=\"simpletable\">\n",
       "<caption>OLS Regression Results</caption>\n",
       "<tr>\n",
       "  <th>Dep. Variable:</th>            <td>z</td>        <th>  R-squared (uncentered):</th>      <td>   0.662</td> \n",
       "</tr>\n",
       "<tr>\n",
       "  <th>Model:</th>                   <td>OLS</td>       <th>  Adj. R-squared (uncentered):</th> <td>   0.661</td> \n",
       "</tr>\n",
       "<tr>\n",
       "  <th>Method:</th>             <td>Least Squares</td>  <th>  F-statistic:       </th>          <td>   1952.</td> \n",
       "</tr>\n",
       "<tr>\n",
       "  <th>Date:</th>             <td>Thu, 26 Dec 2019</td> <th>  Prob (F-statistic):</th>          <td>3.08e-237</td>\n",
       "</tr>\n",
       "<tr>\n",
       "  <th>Time:</th>                 <td>14:11:38</td>     <th>  Log-Likelihood:    </th>          <td> -1456.7</td> \n",
       "</tr>\n",
       "<tr>\n",
       "  <th>No. Observations:</th>      <td>  1000</td>      <th>  AIC:               </th>          <td>   2915.</td> \n",
       "</tr>\n",
       "<tr>\n",
       "  <th>Df Residuals:</th>          <td>   999</td>      <th>  BIC:               </th>          <td>   2920.</td> \n",
       "</tr>\n",
       "<tr>\n",
       "  <th>Df Model:</th>              <td>     1</td>      <th>                     </th>              <td> </td>    \n",
       "</tr>\n",
       "<tr>\n",
       "  <th>Covariance Type:</th>      <td>nonrobust</td>    <th>                     </th>              <td> </td>    \n",
       "</tr>\n",
       "</table>\n",
       "<table class=\"simpletable\">\n",
       "<tr>\n",
       "  <td></td>     <th>coef</th>     <th>std err</th>      <th>t</th>      <th>P>|t|</th>  <th>[0.025</th>    <th>0.975]</th>  \n",
       "</tr>\n",
       "<tr>\n",
       "  <th>y</th> <td>    1.0388</td> <td>    0.024</td> <td>   44.187</td> <td> 0.000</td> <td>    0.993</td> <td>    1.085</td>\n",
       "</tr>\n",
       "</table>\n",
       "<table class=\"simpletable\">\n",
       "<tr>\n",
       "  <th>Omnibus:</th>       <td> 2.411</td> <th>  Durbin-Watson:     </th> <td>   2.063</td>\n",
       "</tr>\n",
       "<tr>\n",
       "  <th>Prob(Omnibus):</th> <td> 0.300</td> <th>  Jarque-Bera (JB):  </th> <td>   2.270</td>\n",
       "</tr>\n",
       "<tr>\n",
       "  <th>Skew:</th>          <td>-0.106</td> <th>  Prob(JB):          </th> <td>   0.321</td>\n",
       "</tr>\n",
       "<tr>\n",
       "  <th>Kurtosis:</th>      <td> 3.097</td> <th>  Cond. No.          </th> <td>    1.00</td>\n",
       "</tr>\n",
       "</table><br/><br/>Warnings:<br/>[1] Standard Errors assume that the covariance matrix of the errors is correctly specified."
      ],
      "text/plain": [
       "<class 'statsmodels.iolib.summary.Summary'>\n",
       "\"\"\"\n",
       "                                 OLS Regression Results                                \n",
       "=======================================================================================\n",
       "Dep. Variable:                      z   R-squared (uncentered):                   0.662\n",
       "Model:                            OLS   Adj. R-squared (uncentered):              0.661\n",
       "Method:                 Least Squares   F-statistic:                              1952.\n",
       "Date:                Thu, 26 Dec 2019   Prob (F-statistic):                   3.08e-237\n",
       "Time:                        14:11:38   Log-Likelihood:                         -1456.7\n",
       "No. Observations:                1000   AIC:                                      2915.\n",
       "Df Residuals:                     999   BIC:                                      2920.\n",
       "Df Model:                           1                                                  \n",
       "Covariance Type:            nonrobust                                                  \n",
       "==============================================================================\n",
       "                 coef    std err          t      P>|t|      [0.025      0.975]\n",
       "------------------------------------------------------------------------------\n",
       "y              1.0388      0.024     44.187      0.000       0.993       1.085\n",
       "==============================================================================\n",
       "Omnibus:                        2.411   Durbin-Watson:                   2.063\n",
       "Prob(Omnibus):                  0.300   Jarque-Bera (JB):                2.270\n",
       "Skew:                          -0.106   Prob(JB):                        0.321\n",
       "Kurtosis:                       3.097   Cond. No.                         1.00\n",
       "==============================================================================\n",
       "\n",
       "Warnings:\n",
       "[1] Standard Errors assume that the covariance matrix of the errors is correctly specified.\n",
       "\"\"\""
      ]
     },
     "execution_count": 3,
     "metadata": {},
     "output_type": "execute_result"
    }
   ],
   "source": [
    "from statsmodels.regression.linear_model import OLS\n",
    "\n",
    "model = OLS(X['z'], X[['y']])\n",
    "result = model.fit()\n",
    "result.summary()"
   ]
  },
  {
   "cell_type": "markdown",
   "metadata": {},
   "source": [
    "Now this is all as we expect. Here’s where it’s going to get interesting. If we regress Z on Y and X together, something weird happens. Before, they both had non-zero coefficients. As we also saw here https://medium.com/@akelleh/a-technical-primer-on-causality-181db2575e41 \n"
   ]
  },
  {
   "cell_type": "code",
   "execution_count": 8,
   "metadata": {},
   "outputs": [
    {
     "data": {
      "text/html": [
       "<table class=\"simpletable\">\n",
       "<caption>OLS Regression Results</caption>\n",
       "<tr>\n",
       "  <th>Dep. Variable:</th>            <td>z</td>        <th>  R-squared (uncentered):</th>      <td>   0.662</td> \n",
       "</tr>\n",
       "<tr>\n",
       "  <th>Model:</th>                   <td>OLS</td>       <th>  Adj. R-squared (uncentered):</th> <td>   0.662</td> \n",
       "</tr>\n",
       "<tr>\n",
       "  <th>Method:</th>             <td>Least Squares</td>  <th>  F-statistic:       </th>          <td>   978.8</td> \n",
       "</tr>\n",
       "<tr>\n",
       "  <th>Date:</th>             <td>Thu, 26 Dec 2019</td> <th>  Prob (F-statistic):</th>          <td>5.12e-236</td>\n",
       "</tr>\n",
       "<tr>\n",
       "  <th>Time:</th>                 <td>14:31:44</td>     <th>  Log-Likelihood:    </th>          <td> -1412.1</td> \n",
       "</tr>\n",
       "<tr>\n",
       "  <th>No. Observations:</th>      <td>  1000</td>      <th>  AIC:               </th>          <td>   2828.</td> \n",
       "</tr>\n",
       "<tr>\n",
       "  <th>Df Residuals:</th>          <td>   998</td>      <th>  BIC:               </th>          <td>   2838.</td> \n",
       "</tr>\n",
       "<tr>\n",
       "  <th>Df Model:</th>              <td>     2</td>      <th>                     </th>              <td> </td>    \n",
       "</tr>\n",
       "<tr>\n",
       "  <th>Covariance Type:</th>      <td>nonrobust</td>    <th>                     </th>              <td> </td>    \n",
       "</tr>\n",
       "</table>\n",
       "<table class=\"simpletable\">\n",
       "<tr>\n",
       "  <td></td>     <th>coef</th>     <th>std err</th>      <th>t</th>      <th>P>|t|</th>  <th>[0.025</th>    <th>0.975]</th>  \n",
       "</tr>\n",
       "<tr>\n",
       "  <th>x</th> <td>    0.0313</td> <td>    0.044</td> <td>    0.704</td> <td> 0.482</td> <td>   -0.056</td> <td>    0.118</td>\n",
       "</tr>\n",
       "<tr>\n",
       "  <th>y</th> <td>    0.9725</td> <td>    0.031</td> <td>   31.128</td> <td> 0.000</td> <td>    0.911</td> <td>    1.034</td>\n",
       "</tr>\n",
       "</table>\n",
       "<table class=\"simpletable\">\n",
       "<tr>\n",
       "  <th>Omnibus:</th>       <td> 1.158</td> <th>  Durbin-Watson:     </th> <td>   1.942</td>\n",
       "</tr>\n",
       "<tr>\n",
       "  <th>Prob(Omnibus):</th> <td> 0.561</td> <th>  Jarque-Bera (JB):  </th> <td>   1.130</td>\n",
       "</tr>\n",
       "<tr>\n",
       "  <th>Skew:</th>          <td> 0.082</td> <th>  Prob(JB):          </th> <td>   0.568</td>\n",
       "</tr>\n",
       "<tr>\n",
       "  <th>Kurtosis:</th>      <td> 3.001</td> <th>  Cond. No.          </th> <td>    2.59</td>\n",
       "</tr>\n",
       "</table><br/><br/>Warnings:<br/>[1] Standard Errors assume that the covariance matrix of the errors is correctly specified."
      ],
      "text/plain": [
       "<class 'statsmodels.iolib.summary.Summary'>\n",
       "\"\"\"\n",
       "                                 OLS Regression Results                                \n",
       "=======================================================================================\n",
       "Dep. Variable:                      z   R-squared (uncentered):                   0.662\n",
       "Model:                            OLS   Adj. R-squared (uncentered):              0.662\n",
       "Method:                 Least Squares   F-statistic:                              978.8\n",
       "Date:                Thu, 26 Dec 2019   Prob (F-statistic):                   5.12e-236\n",
       "Time:                        14:31:44   Log-Likelihood:                         -1412.1\n",
       "No. Observations:                1000   AIC:                                      2828.\n",
       "Df Residuals:                     998   BIC:                                      2838.\n",
       "Df Model:                           2                                                  \n",
       "Covariance Type:            nonrobust                                                  \n",
       "==============================================================================\n",
       "                 coef    std err          t      P>|t|      [0.025      0.975]\n",
       "------------------------------------------------------------------------------\n",
       "x              0.0313      0.044      0.704      0.482      -0.056       0.118\n",
       "y              0.9725      0.031     31.128      0.000       0.911       1.034\n",
       "==============================================================================\n",
       "Omnibus:                        1.158   Durbin-Watson:                   1.942\n",
       "Prob(Omnibus):                  0.561   Jarque-Bera (JB):                1.130\n",
       "Skew:                           0.082   Prob(JB):                        0.568\n",
       "Kurtosis:                       3.001   Cond. No.                         2.59\n",
       "==============================================================================\n",
       "\n",
       "Warnings:\n",
       "[1] Standard Errors assume that the covariance matrix of the errors is correctly specified.\n",
       "\"\"\""
      ]
     },
     "execution_count": 8,
     "metadata": {},
     "output_type": "execute_result"
    }
   ],
   "source": [
    "model = OLS(X['z'], X[['x','y']])\n",
    "result = model.fit()\n",
    "result.summary()"
   ]
  },
  {
   "cell_type": "code",
   "execution_count": null,
   "metadata": {},
   "outputs": [],
   "source": []
  }
 ],
 "metadata": {
  "kernelspec": {
   "display_name": "Python 3",
   "language": "python",
   "name": "python3"
  },
  "language_info": {
   "codemirror_mode": {
    "name": "ipython",
    "version": 3
   },
   "file_extension": ".py",
   "mimetype": "text/x-python",
   "name": "python",
   "nbconvert_exporter": "python",
   "pygments_lexer": "ipython3",
   "version": "3.7.4"
  }
 },
 "nbformat": 4,
 "nbformat_minor": 2
}
